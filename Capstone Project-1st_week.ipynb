{
 "cells": [
  {
   "cell_type": "markdown",
   "metadata": {},
   "source": [
    "# Applied Data Science Capstone Project - The Battle of Neighborhoods¶\n"
   ]
  },
  {
   "cell_type": "markdown",
   "metadata": {},
   "source": [
    "## Introduction/Business Problem\n"
   ]
  },
  {
   "cell_type": "markdown",
   "metadata": {},
   "source": [
    "I have been living in Virginia Beach for 4 years, a lovely and peaceful place. When i first came here then, there was not much factors i cared about while selecting the best neighborhood for my family. Actually i even was not aware of the information out there which might help on my decision process. I wish i would have much more info to work on and made a better decision. \n",
    "\n",
    "One of my friends decided to move here in Virginia Beach and asked for help to find the best place to live depending on his priorities. What attributes should we consider further to make the final conclusion? We discussed on this problem and figured out that we should focus on housing availability, house price, median income level, nearby facilities, and in sum rating scores.\n",
    "\n",
    "\n",
    "\n"
   ]
  },
  {
   "cell_type": "markdown",
   "metadata": {},
   "source": [
    "## A description of the data"
   ]
  },
  {
   "cell_type": "markdown",
   "metadata": {},
   "source": [
    "VA Beach is divided into 12 area based on the zipcodes. \n",
    "We will apply 'uszipcode' package to get the coordinates, total housing units, occupied housing units, median home value, and median household income information and explore these areas by Foursquare API. It would  would help us to get valuable information like most common venues about each area.\n",
    "\n",
    "After  data preprocessing phase, we will utilize K-means algorithm to group the areas into 5 clusters to explore the similarities among them. Finally we will scrape ranking data from areavibes.com for Virginia Beach to finalzie our search.\n",
    "\n",
    "So we will use forsources to get necessarry data. They are:\n",
    "* Virginia Beach, Virginia (VA) Zip Code Map - Locations, Demographics :http://www.city-data.com/zipmaps/Virginia-Beach-Virginia.html\n",
    "* Neighborhood demographic information data: uszipcode package\n",
    "* Most popular venues data: Foursquare API\n",
    "* City livability ranking data: https://www.areavibes.com/\n"
   ]
  }
 ],
 "metadata": {
  "kernelspec": {
   "display_name": "Python 3",
   "language": "python",
   "name": "python3"
  },
  "language_info": {
   "codemirror_mode": {
    "name": "ipython",
    "version": 3
   },
   "file_extension": ".py",
   "mimetype": "text/x-python",
   "name": "python",
   "nbconvert_exporter": "python",
   "pygments_lexer": "ipython3",
   "version": "3.6.5"
  }
 },
 "nbformat": 4,
 "nbformat_minor": 2
}
